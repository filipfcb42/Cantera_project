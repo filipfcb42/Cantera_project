{
 "cells": [
  {
   "cell_type": "markdown",
   "metadata": {},
   "source": [
    "# Propane incomplete combustion model"
   ]
  },
  {
   "cell_type": "markdown",
   "metadata": {},
   "source": [
    "This code is for incomplete combustion of propane - which is main ingridient of LPG. For simplification of problem (propane is available in GRI-mech database, butane not) simulation only with propane will be modelled. Reactor object with Cantera will be prepared to determine the auto-ignition timing of a mixture, and observe changes of temperature, pressure, and content of certain chemical elements in created mixture."
   ]
  },
  {
   "cell_type": "code",
   "execution_count": 359,
   "metadata": {},
   "outputs": [],
   "source": [
    "import numpy as np\n",
    "import cantera as ct\n",
    "import math\n",
    "import csv\n",
    "import matplotlib.pyplot as plt"
   ]
  },
  {
   "cell_type": "markdown",
   "metadata": {},
   "source": [
    "First, lets create a mixture of gases that are inside of the combustion chamber. As mentioned, I will be using GRI-Mech 3.0, the 53-species, 325-reaction natural gas combustion mechanism, standard for Cantera."
   ]
  },
  {
   "cell_type": "code",
   "execution_count": 442,
   "metadata": {},
   "outputs": [],
   "source": [
    "gas1 = ct.Solution('gri30.xml')"
   ]
  },
  {
   "cell_type": "markdown",
   "metadata": {},
   "source": [
    "A LPG-fueled internal combustion engine obtains energy from the combustion of LPG's various hydrocarbons with oxygen from the ambient air, yielding carbon dioxide and water as exhaust. The incomplete combustion of propane, performs the chemical reaction: \n",
    "\n",
    "C 3 H 8 + 4,5 O 2 + 16.92 N 2 ⟶ 2 CO 2 + CO + 4 H 2 O + 16.92 N 2 + Heat\n",
    "\n",
    "So we need C3H8 and air (O2 and N2 in ratio 1:3.76; air is 21% oxygen and 79% nitrogen, lets obey rest of gases) to react with each other during this process.\n",
    "I found in internet and literature properties of LPG-air mixture inside of combustion chamber of of four-stroke internal combustion engine - max pressure (shortly before combustion) is around 3MPa.\n",
    "In theory temperature of propane autoignition is equal to around 490 Celsius degree= 763 K, but this is information for atmosferical pressure which does not occur in that case.\n",
    "Time of propane combustion should be around 0.001s. Temperature inside of combustion chamber is around 2500-3000 Celsius degree after fuel is burned; initially, before combustion process it should be around 900 Celsius degree."
   ]
  },
  {
   "cell_type": "code",
   "execution_count": 450,
   "metadata": {},
   "outputs": [],
   "source": [
    "T = 1200\n",
    "P = 3000000\n",
    "X = 'C3H8:1 O2:4.5 N2:16.92' \n",
    "gas1.TPX = T,P,X"
   ]
  },
  {
   "cell_type": "markdown",
   "metadata": {},
   "source": [
    "Lets check properties of created gas:"
   ]
  },
  {
   "cell_type": "code",
   "execution_count": 451,
   "metadata": {},
   "outputs": [
    {
     "name": "stdout",
     "output_type": "stream",
     "text": [
      "\n",
      "  gri30:\n",
      "\n",
      "       temperature            1200  K\n",
      "          pressure           3e+06  Pa\n",
      "           density         8.87933  kg/m^3\n",
      "  mean mol. weight         29.5307  amu\n",
      "\n",
      "                          1 kg            1 kmol\n",
      "                       -----------      ------------\n",
      "          enthalpy      9.5858e+05        2.831e+07     J\n",
      "   internal energy      6.2072e+05        1.833e+07     J\n",
      "           entropy            7599        2.244e+05     J/K\n",
      "    Gibbs function     -8.1602e+06        -2.41e+08     J\n",
      " heat capacity c_p          1387.9        4.099e+04     J/K\n",
      " heat capacity c_v          1106.4        3.267e+04     J/K\n",
      "\n",
      "                           X                 Y          Chem. Pot. / RT\n",
      "                     -------------     ------------     ------------\n",
      "                O2       0.200714         0.217488         -25.3049\n",
      "                N2       0.754683         0.715908         -22.2366\n",
      "              C3H8       0.044603        0.0666031         -51.3808\n",
      "     [  +50 minor]              0                0\n",
      "\n"
     ]
    }
   ],
   "source": [
    "gas1()"
   ]
  },
  {
   "cell_type": "markdown",
   "metadata": {},
   "source": [
    "Now an ideal gas Reactor filled with gas will be created, and the simulation with a ReactorNet object will be prepared"
   ]
  },
  {
   "cell_type": "code",
   "execution_count": 452,
   "metadata": {},
   "outputs": [],
   "source": [
    "r=ct.Reactor(gas1)\n",
    "sim=ct.ReactorNet([r])"
   ]
  },
  {
   "cell_type": "markdown",
   "metadata": {},
   "source": [
    "Arrays to hold the data for plots"
   ]
  },
  {
   "cell_type": "code",
   "execution_count": 453,
   "metadata": {},
   "outputs": [],
   "source": [
    "times = np.zeros(1000)\n",
    "data = np.zeros((1000,5))"
   ]
  },
  {
   "cell_type": "markdown",
   "metadata": {},
   "source": [
    "EndTime&StartTime and timestep of simulation:"
   ]
  },
  {
   "cell_type": "code",
   "execution_count": 454,
   "metadata": {},
   "outputs": [],
   "source": [
    "time=0\n",
    "tf = 0.005\n",
    "dt=tf/1000\n",
    "n=0"
   ]
  },
  {
   "cell_type": "markdown",
   "metadata": {},
   "source": [
    "Loop for calculation:"
   ]
  },
  {
   "cell_type": "code",
   "execution_count": 455,
   "metadata": {},
   "outputs": [],
   "source": [
    "for n in range(1000):\n",
    "    time += dt\n",
    "    sim.advance(time)\n",
    "    times[n] = time\n",
    "    data[n,0] = r.T\n",
    "    data[n,1] = r.thermo.P\n",
    "    data[n,2:]=r.thermo['O2', 'H' , 'C3H8'].X"
   ]
  },
  {
   "cell_type": "markdown",
   "metadata": {},
   "source": [
    "Now plots of calculations will be printed out. Firstly plot for Temperature vs time:"
   ]
  },
  {
   "cell_type": "code",
   "execution_count": 456,
   "metadata": {},
   "outputs": [
    {
     "data": {
      "image/png": "[encoded data removed]",
      "text/plain": [
       "<Figure size 432x288 with 1 Axes>"
      ]
     },
     "metadata": {
      "needs_background": "light"
     },
     "output_type": "display_data"
    }
   ],
   "source": [
    "plt.plot(times,data[:,0])\n",
    "plt.show()"
   ]
  },
  {
   "cell_type": "code",
   "execution_count": 461,
   "metadata": {},
   "outputs": [
    {
     "name": "stdout",
     "output_type": "stream",
     "text": [
      "3154.2196473805398\n"
     ]
    }
   ],
   "source": [
    "print(data[999,0])"
   ]
  },
  {
   "cell_type": "markdown",
   "metadata": {},
   "source": [
    "Plot for pressure vs time:"
   ]
  },
  {
   "cell_type": "code",
   "execution_count": 457,
   "metadata": {
    "scrolled": true
   },
   "outputs": [
    {
     "data": {
      "image/png": "[encoded data removed]",
      "text/plain": [
       "<Figure size 432x288 with 1 Axes>"
      ]
     },
     "metadata": {
      "needs_background": "light"
     },
     "output_type": "display_data"
    }
   ],
   "source": [
    "plt.plot(times,data[:,1])\n",
    "plt.show()"
   ]
  },
  {
   "cell_type": "code",
   "execution_count": 462,
   "metadata": {},
   "outputs": [
    {
     "name": "stdout",
     "output_type": "stream",
     "text": [
      "8583751.465170465\n"
     ]
    }
   ],
   "source": [
    "print(data[999,1])"
   ]
  },
  {
   "cell_type": "markdown",
   "metadata": {},
   "source": [
    "Plot for O2 content vs time:"
   ]
  },
  {
   "cell_type": "code",
   "execution_count": 458,
   "metadata": {
    "scrolled": true
   },
   "outputs": [
    {
     "data": {
      "image/png": "[encoded data removed]",
      "text/plain": [
       "<Figure size 432x288 with 1 Axes>"
      ]
     },
     "metadata": {
      "needs_background": "light"
     },
     "output_type": "display_data"
    }
   ],
   "source": [
    "plt.plot(times,data[:,2])\n",
    "plt.show()"
   ]
  },
  {
   "cell_type": "code",
   "execution_count": 463,
   "metadata": {},
   "outputs": [
    {
     "name": "stdout",
     "output_type": "stream",
     "text": [
      "0.006160168434464259\n"
     ]
    }
   ],
   "source": [
    "print(data[999,2])"
   ]
  },
  {
   "cell_type": "markdown",
   "metadata": {},
   "source": [
    "Plot for H content vs time:"
   ]
  },
  {
   "cell_type": "code",
   "execution_count": 459,
   "metadata": {
    "scrolled": true
   },
   "outputs": [
    {
     "data": {
      "image/png": "[encoded data removed]",
      "text/plain": [
       "<Figure size 432x288 with 1 Axes>"
      ]
     },
     "metadata": {
      "needs_background": "light"
     },
     "output_type": "display_data"
    }
   ],
   "source": [
    "plt.plot(times,data[:,3])\n",
    "plt.show()"
   ]
  },
  {
   "cell_type": "code",
   "execution_count": 464,
   "metadata": {},
   "outputs": [
    {
     "name": "stdout",
     "output_type": "stream",
     "text": [
      "0.0032363493734964242\n"
     ]
    }
   ],
   "source": [
    "print(data[999,3])"
   ]
  },
  {
   "cell_type": "markdown",
   "metadata": {},
   "source": [
    "Plot for C3H8 content vs time:"
   ]
  },
  {
   "cell_type": "code",
   "execution_count": 460,
   "metadata": {},
   "outputs": [
    {
     "data": {
      "image/png": "[encoded data removed]",
      "text/plain": [
       "<Figure size 432x288 with 1 Axes>"
      ]
     },
     "metadata": {
      "needs_background": "light"
     },
     "output_type": "display_data"
    }
   ],
   "source": [
    "plt.plot(times,data[:,4])\n",
    "plt.show()"
   ]
  },
  {
   "cell_type": "code",
   "execution_count": 465,
   "metadata": {},
   "outputs": [
    {
     "name": "stdout",
     "output_type": "stream",
     "text": [
      "1.6132557885400097e-33\n"
     ]
    }
   ],
   "source": [
    "print(data[999,4])"
   ]
  }
 ],
 "metadata": {
  "kernelspec": {
   "display_name": "Python 3",
   "language": "python",
   "name": "python3"
  },
  "language_info": {
   "codemirror_mode": {
    "name": "ipython",
    "version": 3
   },
   "file_extension": ".py",
   "mimetype": "text/x-python",
   "name": "python",
   "nbconvert_exporter": "python",
   "pygments_lexer": "ipython3",
   "version": "3.7.0"
  }
 },
 "nbformat": 4,
 "nbformat_minor": 2
}
