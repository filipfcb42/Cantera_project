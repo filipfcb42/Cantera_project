{
 "cells": [
  {
   "cell_type": "markdown",
   "metadata": {},
   "source": [
    "# Propane complete combustion model"
   ]
  },
  {
   "cell_type": "markdown",
   "metadata": {},
   "source": [
    "This code is for complete combustion of propane - which is main ingridient of LPG. For simplification of problem (propane is available in GRI-mech database, butane not) simulation only with propane will be modelled. Reactor object with Cantera will be prepared to determine the auto-ignition timing of a mixture, and observe changes of temperature, pressure, and content of certain chemical elements in created mixture."
   ]
  },
  {
   "cell_type": "code",
   "execution_count": 1,
   "metadata": {},
   "outputs": [],
   "source": [
    "import numpy as np\n",
    "import cantera as ct\n",
    "import math\n",
    "import csv\n",
    "import matplotlib.pyplot as plt"
   ]
  },
  {
   "cell_type": "markdown",
   "metadata": {},
   "source": [
    "First, lets create a mixture of gases that are inside of the combustion chamber. As mentioned, I will be using GRI-Mech 3.0, the 53-species, 325-reaction natural gas combustion mechanism, standard for Cantera."
   ]
  },
  {
   "cell_type": "code",
   "execution_count": 2,
   "metadata": {},
   "outputs": [],
   "source": [
    "gas1 = ct.Solution('gri30.xml')"
   ]
  },
  {
   "cell_type": "markdown",
   "metadata": {},
   "source": [
    "A LPG-fueled internal combustion engine obtains energy from the combustion of LPG's various hydrocarbons with oxygen from the ambient air, yielding carbon dioxide and water as exhaust. The combustion of propane, performs the chemical reaction: \n",
    "\n",
    "C 3 H 8 + 5 O 2 + 18.8 N 2 ⟶ 3 CO 2 + 4 H 2 O + 18.8 N 2 + Heat\n",
    "\n",
    "So we need C3H8 and air (O2 and N2 in ratio 1:3.76; air is 21% oxygen and 79% nitrogen, lets obey rest of gases) to react with each other during this process.\n",
    "I found in internet and literature properties of LPG-air mixture inside of combustion chamber of of four-stroke internal combustion engine - max pressure (shortly before combustion) is around 3MPa.\n",
    "Temperature of propane combustion is equal to around 490 Celsius degree= 763 K."
   ]
  },
  {
   "cell_type": "code",
   "execution_count": 3,
   "metadata": {},
   "outputs": [],
   "source": [
    "T = 1200\n",
    "P = 3000000\n",
    "X = 'C3H8:1 O2:5 N2:18.8' \n",
    "gas1.TPX = T,P,X"
   ]
  },
  {
   "cell_type": "markdown",
   "metadata": {},
   "source": [
    "Lets check properties of created gas:"
   ]
  },
  {
   "cell_type": "code",
   "execution_count": 4,
   "metadata": {},
   "outputs": [
    {
     "name": "stdout",
     "output_type": "stream",
     "text": [
      "\n",
      "  gri30:\n",
      "\n",
      "       temperature            1200  K\n",
      "          pressure           3e+06  Pa\n",
      "           density         8.85971  kg/m^3\n",
      "  mean mol. weight         29.4655  amu\n",
      "\n",
      "                          1 kg            1 kmol\n",
      "                       -----------      ------------\n",
      "          enthalpy      9.6122e+05        2.832e+07     J\n",
      "   internal energy      6.2261e+05        1.835e+07     J\n",
      "           entropy          7581.8        2.234e+05     J/K\n",
      "    Gibbs function     -8.1369e+06       -2.398e+08     J\n",
      " heat capacity c_p          1368.6        4.033e+04     J/K\n",
      " heat capacity c_v          1086.5        3.201e+04     J/K\n",
      "\n",
      "                           X                 Y          Chem. Pot. / RT\n",
      "                     -------------     ------------     ------------\n",
      "                O2       0.201613         0.218947         -25.3004\n",
      "                N2       0.758065         0.720709         -22.2321\n",
      "              C3H8      0.0403226        0.0603447         -51.4817\n",
      "     [  +50 minor]              0                0\n",
      "\n"
     ]
    }
   ],
   "source": [
    "gas1()"
   ]
  },
  {
   "cell_type": "markdown",
   "metadata": {},
   "source": [
    "Now an ideal gas Reactor filled with gas will be created, and the simulation with a ReactorNet object will be prepared"
   ]
  },
  {
   "cell_type": "code",
   "execution_count": 5,
   "metadata": {},
   "outputs": [],
   "source": [
    "r=ct.Reactor(gas1)\n",
    "sim=ct.ReactorNet([r])"
   ]
  },
  {
   "cell_type": "markdown",
   "metadata": {},
   "source": [
    "Arrays to hold the datas"
   ]
  },
  {
   "cell_type": "code",
   "execution_count": 6,
   "metadata": {},
   "outputs": [],
   "source": [
    "times = np.zeros(1000)\n",
    "data = np.zeros((1000,5))"
   ]
  },
  {
   "cell_type": "markdown",
   "metadata": {},
   "source": [
    "EndTime&StartTime and timestep of simulation:"
   ]
  },
  {
   "cell_type": "code",
   "execution_count": 7,
   "metadata": {},
   "outputs": [],
   "source": [
    "time=0\n",
    "tf = 0.005\n",
    "dt=tf/1000"
   ]
  },
  {
   "cell_type": "markdown",
   "metadata": {},
   "source": [
    "Loop for calculation:"
   ]
  },
  {
   "cell_type": "code",
   "execution_count": 8,
   "metadata": {},
   "outputs": [],
   "source": [
    "for n in range(1000):\n",
    "    time += dt\n",
    "    sim.advance(time)\n",
    "    times[n] = time\n",
    "    data[n,0] = r.T\n",
    "    data[n,1] = r.thermo.P\n",
    "    data[n,2:]=r.thermo['O2', 'H' , 'C3H8'].X"
   ]
  },
  {
   "cell_type": "markdown",
   "metadata": {},
   "source": [
    "Now plots of calculations will be printed out. Firstly plot for Temperature vs time:"
   ]
  },
  {
   "cell_type": "code",
   "execution_count": 9,
   "metadata": {},
   "outputs": [
    {
     "data": {
      "image/png": "[encoded data removed]",
      "text/plain": [
       "<Figure size 432x288 with 1 Axes>"
      ]
     },
     "metadata": {
      "needs_background": "light"
     },
     "output_type": "display_data"
    }
   ],
   "source": [
    "plt.plot(times,data[:,0])\n",
    "plt.show()"
   ]
  },
  {
   "cell_type": "markdown",
   "metadata": {},
   "source": [
    "Plot for 02 content vs time:"
   ]
  },
  {
   "cell_type": "code",
   "execution_count": 10,
   "metadata": {},
   "outputs": [
    {
     "data": {
      "image/png": "[encoded data removed]",
      "text/plain": [
       "<Figure size 432x288 with 1 Axes>"
      ]
     },
     "metadata": {
      "needs_background": "light"
     },
     "output_type": "display_data"
    }
   ],
   "source": [
    "plt.plot(times,data[:,1])\n",
    "plt.show()"
   ]
  },
  {
   "cell_type": "markdown",
   "metadata": {},
   "source": [
    "Plot for H content vs time:"
   ]
  },
  {
   "cell_type": "code",
   "execution_count": 11,
   "metadata": {},
   "outputs": [
    {
     "data": {
      "image/png": "[encoded data removed]",
      "text/plain": [
       "<Figure size 432x288 with 1 Axes>"
      ]
     },
     "metadata": {
      "needs_background": "light"
     },
     "output_type": "display_data"
    }
   ],
   "source": [
    "plt.plot(times,data[:,2])\n",
    "plt.show()"
   ]
  },
  {
   "cell_type": "markdown",
   "metadata": {},
   "source": [
    "Plot for C3H8 content vs time:"
   ]
  },
  {
   "cell_type": "code",
   "execution_count": 12,
   "metadata": {},
   "outputs": [
    {
     "data": {
      "image/png": "[encoded data removed]",
      "text/plain": [
       "<Figure size 432x288 with 1 Axes>"
      ]
     },
     "metadata": {
      "needs_background": "light"
     },
     "output_type": "display_data"
    }
   ],
   "source": [
    "plt.plot(times,data[:,3])\n",
    "plt.show()"
   ]
  }
 ],
 "metadata": {
  "kernelspec": {
   "display_name": "Python 3",
   "language": "python",
   "name": "python3"
  },
  "language_info": {
   "codemirror_mode": {
    "name": "ipython",
    "version": 3
   },
   "file_extension": ".py",
   "mimetype": "text/x-python",
   "name": "python",
   "nbconvert_exporter": "python",
   "pygments_lexer": "ipython3",
   "version": "3.7.0"
  }
 },
 "nbformat": 4,
 "nbformat_minor": 2
}
